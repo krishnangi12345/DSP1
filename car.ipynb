{
 "cells": [
  {
   "cell_type": "code",
   "execution_count": 1,
   "metadata": {},
   "outputs": [
    {
     "name": "stderr",
     "output_type": "stream",
     "text": [
      "C:\\Users\\Krishnangi Borgohain\\AppData\\Local\\Temp\\ipykernel_12384\\265554930.py:2: DeprecationWarning: \n",
      "Pyarrow will become a required dependency of pandas in the next major release of pandas (pandas 3.0),\n",
      "(to allow more performant data types, such as the Arrow string type, and better interoperability with other libraries)\n",
      "but was not found to be installed on your system.\n",
      "If this would cause problems for you,\n",
      "please provide us feedback at https://github.com/pandas-dev/pandas/issues/54466\n",
      "        \n",
      "  import pandas as pd\n"
     ]
    }
   ],
   "source": [
    "import numpy as np\n",
    "import pandas as pd\n",
    "import matplotlib.pyplot as plt\n",
    "import seaborn as sns"
   ]
  },
  {
   "cell_type": "code",
   "execution_count": 2,
   "metadata": {},
   "outputs": [
    {
     "name": "stdout",
     "output_type": "stream",
     "text": [
      "    Make                    Model    Type  Origin DriveTrain      MSRP  \\\n",
      "0  Acura                      MDX     SUV    Asia        All  $36,945    \n",
      "1  Acura           RSX Type S 2dr   Sedan    Asia      Front  $23,820    \n",
      "2  Acura                  TSX 4dr   Sedan    Asia      Front  $26,990    \n",
      "3  Acura                   TL 4dr   Sedan    Asia      Front  $33,195    \n",
      "4  Acura               3.5 RL 4dr   Sedan    Asia      Front  $43,755    \n",
      "5  Acura  3.5 RL w/Navigation 4dr   Sedan    Asia      Front  $46,100    \n",
      "6  Acura   NSX coupe 2dr manual S  Sports    Asia       Rear  $89,765    \n",
      "7   Audi              A4 1.8T 4dr   Sedan  Europe      Front  $25,940    \n",
      "8   Audi   A41.8T convertible 2dr   Sedan  Europe      Front  $35,940    \n",
      "9   Audi               A4 3.0 4dr   Sedan  Europe      Front  $31,840    \n",
      "\n",
      "    Invoice  EngineSize  Cylinders  Horsepower  MPG_City  MPG_Highway  Weight  \\\n",
      "0  $33,337          3.5        6.0       265.0      17.0         23.0  4451.0   \n",
      "1  $21,761          2.0        4.0       200.0      24.0         31.0  2778.0   \n",
      "2  $24,647          2.4        4.0       200.0      22.0         29.0  3230.0   \n",
      "3  $30,299          3.2        6.0       270.0      20.0         28.0  3575.0   \n",
      "4  $39,014          3.5        6.0       225.0      18.0         24.0  3880.0   \n",
      "5  $41,100          3.5        6.0       225.0      18.0         24.0  3893.0   \n",
      "6  $79,978          3.2        6.0       290.0      17.0         24.0  3153.0   \n",
      "7  $23,508          1.8        4.0       170.0      22.0         31.0  3252.0   \n",
      "8  $32,506          1.8        4.0       170.0      23.0         30.0  3638.0   \n",
      "9  $28,846          3.0        6.0       220.0      20.0         28.0  3462.0   \n",
      "\n",
      "   Wheelbase  Length  \n",
      "0      106.0   189.0  \n",
      "1      101.0   172.0  \n",
      "2      105.0   183.0  \n",
      "3      108.0   186.0  \n",
      "4      115.0   197.0  \n",
      "5      115.0   197.0  \n",
      "6      100.0   174.0  \n",
      "7      104.0   179.0  \n",
      "8      105.0   180.0  \n",
      "9      104.0   179.0  \n"
     ]
    }
   ],
   "source": [
    "cars = pd.read_csv(r\"c:\\Users\\Krishnangi Borgohain\\Downloads\\cars.csv\")\n",
    "print(cars.head(10))"
   ]
  },
  {
   "cell_type": "code",
   "execution_count": 4,
   "metadata": {},
   "outputs": [
    {
     "name": "stdout",
     "output_type": "stream",
     "text": [
      "Null values count in each column:\n",
      "Make           4\n",
      "Model          4\n",
      "Type           4\n",
      "Origin         4\n",
      "DriveTrain     4\n",
      "MSRP           4\n",
      "Invoice        4\n",
      "EngineSize     4\n",
      "Cylinders      6\n",
      "Horsepower     4\n",
      "MPG_City       4\n",
      "MPG_Highway    4\n",
      "Weight         4\n",
      "Wheelbase      4\n",
      "Length         4\n",
      "dtype: int64\n"
     ]
    }
   ],
   "source": [
    "#Find all Null Values in the dataset. If there is any null value in any column, then fill it with the mean of that column.\n",
    "\n",
    "null_values = cars.isnull().sum()\n",
    "print(\"Null values count in each column:\")\n",
    "print(null_values)"
   ]
  },
  {
   "cell_type": "code",
   "execution_count": null,
   "metadata": {},
   "outputs": [],
   "source": [
    "#Question ( Based on Value Counts )- Check what are the different types of Make are there in our dataset. And, what is the count (occurrence) of each Make in the data ?\n",
    "\n",
    "count_datatset = cars[\"Make\"].value_counts()\n",
    "print(count_datatset)"
   ]
  },
  {
   "cell_type": "code",
   "execution_count": 5,
   "metadata": {},
   "outputs": [
    {
     "name": "stdout",
     "output_type": "stream",
     "text": [
      "Unwanted records:       Make                    Model   Type  Origin DriveTrain      MSRP  \\\n",
      "1    Acura           RSX Type S 2dr  Sedan    Asia      Front  $23,820    \n",
      "2    Acura                  TSX 4dr  Sedan    Asia      Front  $26,990    \n",
      "3    Acura                   TL 4dr  Sedan    Asia      Front  $33,195    \n",
      "4    Acura               3.5 RL 4dr  Sedan    Asia      Front  $43,755    \n",
      "5    Acura  3.5 RL w/Navigation 4dr  Sedan    Asia      Front  $46,100    \n",
      "..     ...                      ...    ...     ...        ...       ...   \n",
      "427  Volvo  C70 LPT convertible 2dr  Sedan  Europe      Front  $40,565    \n",
      "428  Volvo  C70 HPT convertible 2dr  Sedan  Europe      Front  $42,565    \n",
      "429  Volvo               S80 T6 4dr  Sedan  Europe      Front  $45,210    \n",
      "430  Volvo                      V40  Wagon  Europe      Front  $26,135    \n",
      "431  Volvo                     XC70  Wagon  Europe        All  $35,145    \n",
      "\n",
      "      Invoice  EngineSize  Cylinders  Horsepower  MPG_City  MPG_Highway  \\\n",
      "1    $21,761          2.0        4.0       200.0      24.0         31.0   \n",
      "2    $24,647          2.4        4.0       200.0      22.0         29.0   \n",
      "3    $30,299          3.2        6.0       270.0      20.0         28.0   \n",
      "4    $39,014          3.5        6.0       225.0      18.0         24.0   \n",
      "5    $41,100          3.5        6.0       225.0      18.0         24.0   \n",
      "..        ...         ...        ...         ...       ...          ...   \n",
      "427  $38,203          2.4        5.0       197.0      21.0         28.0   \n",
      "428  $40,083          2.3        5.0       242.0      20.0         26.0   \n",
      "429  $42,573          2.9        6.0       268.0      19.0         26.0   \n",
      "430  $24,641          1.9        4.0       170.0      22.0         29.0   \n",
      "431  $33,112          2.5        5.0       208.0      20.0         27.0   \n",
      "\n",
      "     Weight  Wheelbase  Length  \n",
      "1    2778.0      101.0   172.0  \n",
      "2    3230.0      105.0   183.0  \n",
      "3    3575.0      108.0   186.0  \n",
      "4    3880.0      115.0   197.0  \n",
      "5    3893.0      115.0   197.0  \n",
      "..      ...        ...     ...  \n",
      "427  3450.0      105.0   186.0  \n",
      "428  3450.0      105.0   186.0  \n",
      "429  3653.0      110.0   190.0  \n",
      "430  2822.0      101.0   180.0  \n",
      "431  3823.0      109.0   186.0  \n",
      "\n",
      "[325 rows x 15 columns]\n"
     ]
    }
   ],
   "source": [
    "#Instruction ( Removing unwanted records ) - Remove all the records (rows) where Weight is above 4000.\n",
    "\n",
    "unwanted_records = cars[cars[\"Weight\"]<=4000]\n",
    "print(\"Unwanted records:\", unwanted_records)"
   ]
  },
  {
   "cell_type": "code",
   "execution_count": 6,
   "metadata": {},
   "outputs": [
    {
     "name": "stdout",
     "output_type": "stream",
     "text": [
      "      Make                    Model   Type  Origin DriveTrain      MSRP  \\\n",
      "0    Acura                      MDX    SUV    Asia        All  $36,945    \n",
      "1    Acura           RSX Type S 2dr  Sedan    Asia      Front  $23,820    \n",
      "2    Acura                  TSX 4dr  Sedan    Asia      Front  $26,990    \n",
      "3    Acura                   TL 4dr  Sedan    Asia      Front  $33,195    \n",
      "4    Acura               3.5 RL 4dr  Sedan    Asia      Front  $43,755    \n",
      "..     ...                      ...    ...     ...        ...       ...   \n",
      "427  Volvo  C70 LPT convertible 2dr  Sedan  Europe      Front  $40,565    \n",
      "428  Volvo  C70 HPT convertible 2dr  Sedan  Europe      Front  $42,565    \n",
      "429  Volvo               S80 T6 4dr  Sedan  Europe      Front  $45,210    \n",
      "430  Volvo                      V40  Wagon  Europe      Front  $26,135    \n",
      "431  Volvo                     XC70  Wagon  Europe        All  $35,145    \n",
      "\n",
      "      Invoice  EngineSize  Cylinders  Horsepower  MPG_City  MPG_Highway  \\\n",
      "0    $33,337          3.5        6.0       265.0      20.0         23.0   \n",
      "1    $21,761          2.0        4.0       200.0      27.0         31.0   \n",
      "2    $24,647          2.4        4.0       200.0      25.0         29.0   \n",
      "3    $30,299          3.2        6.0       270.0      23.0         28.0   \n",
      "4    $39,014          3.5        6.0       225.0      21.0         24.0   \n",
      "..        ...         ...        ...         ...       ...          ...   \n",
      "427  $38,203          2.4        5.0       197.0      24.0         28.0   \n",
      "428  $40,083          2.3        5.0       242.0      23.0         26.0   \n",
      "429  $42,573          2.9        6.0       268.0      22.0         26.0   \n",
      "430  $24,641          1.9        4.0       170.0      25.0         29.0   \n",
      "431  $33,112          2.5        5.0       208.0      23.0         27.0   \n",
      "\n",
      "     Weight  Wheelbase  Length  \n",
      "0    4451.0      106.0   189.0  \n",
      "1    2778.0      101.0   172.0  \n",
      "2    3230.0      105.0   183.0  \n",
      "3    3575.0      108.0   186.0  \n",
      "4    3880.0      115.0   197.0  \n",
      "..      ...        ...     ...  \n",
      "427  3450.0      105.0   186.0  \n",
      "428  3450.0      105.0   186.0  \n",
      "429  3653.0      110.0   190.0  \n",
      "430  2822.0      101.0   180.0  \n",
      "431  3823.0      109.0   186.0  \n",
      "\n",
      "[432 rows x 15 columns]\n"
     ]
    }
   ],
   "source": [
    "#Instruction ( Applying function on a column ) - Increase all the values of 'MPG_City' column by 3.\n",
    "cars[\"MPG_City\"]+=3\n",
    "print(cars)"
   ]
  }
 ],
 "metadata": {
  "kernelspec": {
   "display_name": "Python 3",
   "language": "python",
   "name": "python3"
  },
  "language_info": {
   "codemirror_mode": {
    "name": "ipython",
    "version": 3
   },
   "file_extension": ".py",
   "mimetype": "text/x-python",
   "name": "python",
   "nbconvert_exporter": "python",
   "pygments_lexer": "ipython3",
   "version": "3.11.8"
  }
 },
 "nbformat": 4,
 "nbformat_minor": 2
}
